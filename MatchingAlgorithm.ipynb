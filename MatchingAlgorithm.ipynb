{
 "cells": [
  {
   "cell_type": "code",
   "execution_count": 1,
   "id": "95a2635c-4789-41eb-852f-72c092617b77",
   "metadata": {},
   "outputs": [],
   "source": [
    "import pandas as pd\n",
    "import random"
   ]
  },
  {
   "cell_type": "code",
   "execution_count": 2,
   "id": "a08c965f-dde1-4cf5-ace4-c90b99c1ed52",
   "metadata": {},
   "outputs": [],
   "source": [
    "#variable to store which student dataset we want to run\n",
    "student_url = 'data/raw/datasetA_with_roommate_pref.csv'"
   ]
  },
  {
   "cell_type": "code",
   "execution_count": 3,
   "id": "47a29c5d-4e35-46de-8953-375db8a07dcc",
   "metadata": {},
   "outputs": [],
   "source": [
    "#variable to store which room dataset we want to run\n",
    "room_url = 'data/raw/final_room_data.csv'"
   ]
  },
  {
   "cell_type": "code",
   "execution_count": 4,
   "id": "56391579-8f0f-48c6-a6f6-1ab90a33215b",
   "metadata": {},
   "outputs": [],
   "source": [
    "student_df = pd.read_csv(student_url, index_col= False)\n",
    "room_df = pd.read_csv(room_url, index_col= False)"
   ]
  },
  {
   "cell_type": "code",
   "execution_count": 5,
   "id": "38c4729e-3b6e-480c-8c52-ede0e6f359af",
   "metadata": {},
   "outputs": [],
   "source": [
    "#drop unneccessary columns (maybe drop: name, school, is_single_preferred)\n",
    "student_df = student_df.drop(columns=['date_of_birth', 'is_private_bathroom_preferred', 'laundry_availibility'])"
   ]
  },
  {
   "cell_type": "markdown",
   "id": "c45cabe4-27a7-48b0-a182-63abd905f412",
   "metadata": {},
   "source": [
    "# Sorting\n",
    "We sorted the dataset using the following steps:\n",
    "1. assigning every student a lottery number & sorting them by it\n",
    "2. prioritizing freshman students (bringing them to the top of the list regardless of lottery number)\n",
    "3. prioritizing disability students (bringing them to the top of the list regardless of lottery number)\n",
    "4. prioritizing low-income students (bringing them to the top of the list regardless of lottery number)\n",
    "\n",
    "## What this means\n",
    "All of these categories are sorted by lottery\n",
    "1. Freshman & Disabled & Low-income\n",
    "2. Disabled & Low-income\n",
    "3. Disabled\n",
    "4. Freshman & Low-income\n",
    "5. Low-income\n",
    "6. Freshman\n",
    "7. Everyone else"
   ]
  },
  {
   "cell_type": "code",
   "execution_count": 6,
   "id": "6d149dbd-edef-4387-beb9-a9ba30f7ebde",
   "metadata": {},
   "outputs": [],
   "source": [
    "# defining variables\n",
    "total_students = student_df.shape[0]"
   ]
  },
  {
   "cell_type": "code",
   "execution_count": 7,
   "id": "58b7ef12-3193-4e57-95d1-d43bda7c2718",
   "metadata": {},
   "outputs": [],
   "source": [
    "# definining weights\n",
    "disability_pts = 20\n",
    "income_pts = 10\n",
    "freshman_pts = 5\n",
    "\n",
    "# assigning weights to each student\n",
    "weight_df = student_df\n",
    "weight_df['weights'] = 0\n",
    "for row in weight_df.index:\n",
    "    if weight_df.loc[row, 'accessibility_need'] == 1:\n",
    "        weight_df.at[row, 'weights'] += disability_pts\n",
    "    if weight_df.loc[row, 'low_income_status'] == 1:\n",
    "        weight_df.at[row, 'weights'] += income_pts\n",
    "    if weight_df.loc[row, 'student_year'] == \"Freshman\":\n",
    "        weight_df.at[row, 'weights'] += freshman_pts"
   ]
  },
  {
   "cell_type": "code",
   "execution_count": 8,
   "id": "f6ee3a6b-09ad-419c-b40c-aca3b1108673",
   "metadata": {},
   "outputs": [],
   "source": [
    "# will assign a different random number to each student\n",
    "lottery_df = weight_df\n",
    "numbers_range = range(1, total_students*4)\n",
    "lottery_numbers = random.choices(numbers_range, k=total_students)\n",
    "lottery_df[\"lottery_number\"] = lottery_numbers"
   ]
  },
  {
   "cell_type": "code",
   "execution_count": 9,
   "id": "4409aa71-cd60-457b-8000-b38b99879095",
   "metadata": {},
   "outputs": [],
   "source": [
    "# sort student dataset by weight and then lottery\n",
    "sorted_df = lottery_df.sort_values(by=['weights', 'lottery_number'], ascending=[False, True])\n",
    "sorted_df['assigned'] = 0\n",
    "sorted_df.to_csv('data/processed/sorted_students.csv', index=False)"
   ]
  },
  {
   "cell_type": "markdown",
   "id": "eadbbfb7-4e43-483d-8d72-f7df79853fd1",
   "metadata": {},
   "source": [
    "# Assigning Rooms\n",
    "\n",
    "Using priorities\n",
    "If none of their preferences are available, random assignment\n"
   ]
  },
  {
   "cell_type": "code",
   "execution_count": 10,
   "id": "7b95df10-98ba-410c-ab42-94b326c71928",
   "metadata": {},
   "outputs": [],
   "source": [
    "# setting variables\n",
    "total_rooms = room_df.shape[0]\n",
    "graduate_rooms = 0\n",
    "accessible_rooms = 0\n",
    "\n",
    "for row in range(0,total_rooms):\n",
    "    if room_df.loc[row, 'has_accessibility_ramps'] == 1:\n",
    "        accessible_rooms += 1\n",
    "    if room_df.loc[row, 'room_contract_type'].find('Graduate') != -1:\n",
    "        accessible_rooms += 1\n"
   ]
  },
  {
   "cell_type": "code",
   "execution_count": 11,
   "id": "81e47eb0-75ce-4d60-83b5-751efa611eff",
   "metadata": {},
   "outputs": [],
   "source": [
    "#create a room preference list for each RUID\n",
    "preference_list = dict()\n",
    "for row in sorted_df.index:\n",
    "    series_ids = sorted_df.loc[row, ['preferred_hall_ids']]\n",
    "    string_ids = series_ids.to_string()\n",
    "    temp = string_ids[22:]\n",
    "    temp_str = temp.replace(' ', \",\").replace('[','').replace(']','').replace(\"'\",'').replace(\"'\",'')\n",
    "    preference_list[sorted_df.loc[row, 'RUID']] = temp_str.split(',') #string split"
   ]
  },
  {
   "cell_type": "code",
   "execution_count": 12,
   "id": "c39c7324-338c-4a2d-b4fa-0a27c495da36",
   "metadata": {},
   "outputs": [],
   "source": [
    "#create a roommate preference list for each RUID\n",
    "roommate_list = dict()\n",
    "for row in sorted_df.index:\n",
    "    series_ids = sorted_df.loc[row, ['roommate_preferences']]\n",
    "    string_ids = series_ids.to_string()\n",
    "    temp = string_ids[24:]\n",
    "    temp_str = temp.replace('[', '').replace(']', '')\n",
    "    roommate_list[sorted_df.loc[row, 'RUID']] = temp_str.split(',') #string split"
   ]
  },
  {
   "cell_type": "code",
   "execution_count": 13,
   "id": "5e3b2f32-a403-4114-ac65-a612131eef9b",
   "metadata": {},
   "outputs": [
    {
     "name": "stdout",
     "output_type": "stream",
     "text": [
      "           preferred_hall     roommate_preferences\n",
      "906155943    [WS, BS, SA]  [956668962,  743988610]\n",
      "152782265    [RA, MH, BS]  [842369533,  626751036]\n",
      "312170287  [MZH, JS, NCA]                       []\n",
      "755331365   [NCA, MS, RA]  [694212164,  869964826]\n",
      "199302575   [NCA, TS, MH]                       []\n",
      "...                   ...                      ...\n",
      "390346299        [JA, BA]                       []\n",
      "643395246   [NCA, TS, BS]  [122364754,  415738137]\n",
      "914367253   [SA, TS, MRS]  [987291052,  979417663]\n",
      "849602917   [BS, NCA, BH]  [230972311,  674662268]\n",
      "234441184    [AH, TS, RA]              [785123321]\n",
      "\n",
      "[5330 rows x 2 columns]\n"
     ]
    }
   ],
   "source": [
    "ruid_df = pd.DataFrame({'preferred_hall':pd.Series(preference_list), 'roommate_preferences':pd.Series(roommate_list)})\n",
    "print(ruid_df)"
   ]
  },
  {
   "cell_type": "code",
   "execution_count": 23,
   "id": "9dd3cefa-d78e-4989-95c7-d4f16e9bdf61",
   "metadata": {},
   "outputs": [],
   "source": [
    "result = dict()\n",
    "\n",
    "room_df['available'] = 1\n",
    "\n",
    "for ruid in ruid_df.index:\n",
    "    \n",
    "    student_info = pd.DataFrame()\n",
    "    student_info = sorted_df.loc[(sorted_df['RUID'] == ruid)]\n",
    "    student_info = student_info.reset_index().drop(columns=['index'])\n",
    "    \n",
    "    #check if ruid is disability\n",
    "    disability_check = False\n",
    "    if student_info.loc[0]['accessibility_need'] == 1:\n",
    "        disability_check = True\n",
    "    \n",
    "    #check if ruid is low-income : in 2 parts\n",
    "    income_check = False\n",
    "    if student_info.loc[0]['low_income_status'] == 1:\n",
    "        income_check = True\n",
    "    \n",
    "    max_price = student_info.loc[0]['max_price']\n",
    "    \n",
    "    is_pref_found = False\n",
    "    room_details = []\n",
    "    available_rooms_df = pd.DataFrame()\n",
    "    \n",
    "    preferences = ruid_df.loc[ruid, 'preferred_hall']\n",
    "    roommate = ruid_df.loc[ruid, 'roommate_preferences']\n",
    "\n",
    "    for pref in preferences:\n",
    "        \n",
    "        if disability_check:\n",
    "            available_rooms_df = room_df.loc[(room_df['hall_id'] == pref) & (room_df['available'] == 1) & (room_df['has_accessibility_ramps'] == 1)]\n",
    "        else:\n",
    "            available_rooms_df = room_df.loc[(room_df['hall_id'] == pref) & room_df['available'] == 1]\n",
    "        \n",
    "        if not available_rooms_df.empty:\n",
    "            #try allocating first room in the df\n",
    "            is_pref_found = True\n",
    "            break\n",
    "    \n",
    "    if not is_pref_found:\n",
    "        #allocate random available room\n",
    "        available_rooms_df = room_df.loc[room_df['available'] == 1]\n",
    "    \n",
    "    if not available_rooms_df.empty:\n",
    "        #try allocating first room in the df\n",
    "        \n",
    "        #roommate assignment here\n",
    "        allocated_room = available_rooms_df.iloc[0]\n",
    "            \n",
    "        room_details.append(allocated_room['hall_id'])\n",
    "        room_details.append(allocated_room['building_id'])\n",
    "        room_details.append(allocated_room['room_id'])\n",
    "            \n",
    "        room_df.loc[allocated_room.name,'available'] = 0\n",
    "        result[ruid] = room_details "
   ]
  },
  {
   "cell_type": "code",
   "execution_count": 24,
   "id": "d6998290-82a9-45f6-b40b-b2de648eb4fe",
   "metadata": {},
   "outputs": [],
   "source": [
    "df = pd.DataFrame(list(result.items()), columns=['RUID', 'Assigned Rooms'])\n",
    "df.to_csv('allocated.csv', index=False)"
   ]
  },
  {
   "cell_type": "markdown",
   "id": "17c68c90-490b-4304-b539-58667cf30a80",
   "metadata": {},
   "source": [
    "# Matching Algorithm"
   ]
  },
  {
   "cell_type": "code",
   "execution_count": 16,
   "id": "51de0992-cc7b-484b-94e8-0da351103b6d",
   "metadata": {},
   "outputs": [
    {
     "name": "stdout",
     "output_type": "stream",
     "text": [
      "<bound method NDFrame.head of                   name sex       RUID          student_year  \\\n",
      "0     Jennifer Simmons   F  977522906             Sophomore   \n",
      "1      Courtney Murphy   F  567583671             Sophomore   \n",
      "2       Alexander King   M  450859644              Freshman   \n",
      "3      Amanda Atkinson   F  826829351             Sophomore   \n",
      "4          Mark Rogers   M  852305641                Junior   \n",
      "...                ...  ..        ...                   ...   \n",
      "5325  Mr. Joseph White   M  900451724             Doctorate   \n",
      "5326   Alyssa Franklin   F  933744275             Doctorate   \n",
      "5327       David James   M  417696262               Masters   \n",
      "5328     Stephen Heath   M  940035368  Postdoctoral studies   \n",
      "5329    Daniel Nichols   M  755301395             Doctorate   \n",
      "\n",
      "                                         student_school  accessibility_need  \\\n",
      "0                                 School of Engineering                   1   \n",
      "1                           School of Arts and Sciences                   0   \n",
      "2                           School of Arts and Sciences                   0   \n",
      "3                        Mason Gross School of the Arts                   0   \n",
      "4                           School of Arts and Sciences                   0   \n",
      "...                                                 ...                 ...   \n",
      "5325                       Graduate School of Education                   0   \n",
      "5326                         School of Graduate Studies                   0   \n",
      "5327  Graduate School of Applied and Professional Ps...                   0   \n",
      "5328                         School of Graduate Studies                   0   \n",
      "5329                         School of Graduate Studies                   0   \n",
      "\n",
      "      low_income_status preferred_hall_ids    preferred_residence_type  \\\n",
      "0                     0   ['WS' 'BS' 'RA']                   Apartment   \n",
      "1                     0   ['TS' 'BS' 'RA']                   Apartment   \n",
      "2                     0  ['RA' 'MS' 'NCA']                   Apartment   \n",
      "3                     1   ['AH' 'SA' 'MS']                       Suite   \n",
      "4                     0  ['BS' 'MS' 'NCA']  Traditional Residence Hall   \n",
      "...                 ...                ...                         ...   \n",
      "5325                  0        ['BA' 'JA']                   Apartment   \n",
      "5326                  0        ['BA' 'JA']                   Apartment   \n",
      "5327                  1        ['BA' 'JA']                   Apartment   \n",
      "5328                  1        ['BA' 'JA']                   Apartment   \n",
      "5329                  0        ['JA' 'BA']                   Apartment   \n",
      "\n",
      "      is_single_preferred preferred_price_range  max_price  \\\n",
      "0                       1            8000-11000      12000   \n",
      "1                       1             4000-6000       7000   \n",
      "2                       1             6000-8000       9000   \n",
      "3                       1            8000-11000      12000   \n",
      "4                       1            8000-11000      12000   \n",
      "...                   ...                   ...        ...   \n",
      "5325                    1            9000-10500      11500   \n",
      "5326                    1           10500-12000      13000   \n",
      "5327                    1            9000-10500      11500   \n",
      "5328                    1            9000-10500      11500   \n",
      "5329                    1           10500-12000      13000   \n",
      "\n",
      "        roommate_preferences  weights  lottery_number  \n",
      "0                         []       20           12370  \n",
      "1                [387304693]        0           16388  \n",
      "2     [635228222, 156755286]        5           19628  \n",
      "3                [121701820]       10            8022  \n",
      "4     [876496616, 433175014]        0            8333  \n",
      "...                      ...      ...             ...  \n",
      "5325                      []        0           15937  \n",
      "5326                      []        0           15612  \n",
      "5327                      []       10           19048  \n",
      "5328                      []       10           17742  \n",
      "5329                      []        0            1844  \n",
      "\n",
      "[5330 rows x 15 columns]>\n",
      "[]\n",
      "[387304693]\n",
      "['387304693']\n",
      "387304693\n"
     ]
    },
    {
     "ename": "KeyError",
     "evalue": "'name'",
     "output_type": "error",
     "traceback": [
      "\u001b[0;31m---------------------------------------------------------------------------\u001b[0m",
      "\u001b[0;31mKeyError\u001b[0m                                  Traceback (most recent call last)",
      "\u001b[0;32m<ipython-input-16-f28732e0676b>\u001b[0m in \u001b[0;36m<module>\u001b[0;34m\u001b[0m\n\u001b[1;32m     13\u001b[0m             \u001b[0mmatch_list\u001b[0m \u001b[0;34m=\u001b[0m \u001b[0;34m[\u001b[0m\u001b[0;34m]\u001b[0m\u001b[0;34m\u001b[0m\u001b[0;34m\u001b[0m\u001b[0m\n\u001b[1;32m     14\u001b[0m             \u001b[0;32mfor\u001b[0m \u001b[0mrow2\u001b[0m \u001b[0;32min\u001b[0m \u001b[0mstudent_df\u001b[0m\u001b[0;34m:\u001b[0m\u001b[0;34m\u001b[0m\u001b[0;34m\u001b[0m\u001b[0m\n\u001b[0;32m---> 15\u001b[0;31m                 \u001b[0;32mif\u001b[0m \u001b[0mstudent_df\u001b[0m\u001b[0;34m.\u001b[0m\u001b[0mloc\u001b[0m\u001b[0;34m[\u001b[0m\u001b[0mrow2\u001b[0m\u001b[0;34m,\u001b[0m \u001b[0;34m'RUID'\u001b[0m\u001b[0;34m]\u001b[0m \u001b[0;34m==\u001b[0m \u001b[0mstudent\u001b[0m\u001b[0;34m:\u001b[0m\u001b[0;34m\u001b[0m\u001b[0;34m\u001b[0m\u001b[0m\n\u001b[0m\u001b[1;32m     16\u001b[0m                     \u001b[0mmatch_list\u001b[0m \u001b[0;34m=\u001b[0m \u001b[0mstudent_df\u001b[0m\u001b[0;34m.\u001b[0m\u001b[0mloc\u001b[0m\u001b[0;34m[\u001b[0m\u001b[0mrow2\u001b[0m\u001b[0;34m,\u001b[0m \u001b[0;34m'roommate_preferences'\u001b[0m\u001b[0;34m]\u001b[0m\u001b[0;34m\u001b[0m\u001b[0;34m\u001b[0m\u001b[0m\n\u001b[1;32m     17\u001b[0m             \u001b[0;32mif\u001b[0m \u001b[0mstudent\u001b[0m \u001b[0;32mnot\u001b[0m \u001b[0;32min\u001b[0m \u001b[0mmatch_list\u001b[0m\u001b[0;34m:\u001b[0m\u001b[0;34m\u001b[0m\u001b[0;34m\u001b[0m\u001b[0m\n",
      "\u001b[0;32m~/opt/anaconda3/lib/python3.8/site-packages/pandas/core/indexing.py\u001b[0m in \u001b[0;36m__getitem__\u001b[0;34m(self, key)\u001b[0m\n\u001b[1;32m    887\u001b[0m                     \u001b[0;31m# AttributeError for IntervalTree get_value\u001b[0m\u001b[0;34m\u001b[0m\u001b[0;34m\u001b[0m\u001b[0;34m\u001b[0m\u001b[0m\n\u001b[1;32m    888\u001b[0m                     \u001b[0;32mreturn\u001b[0m \u001b[0mself\u001b[0m\u001b[0;34m.\u001b[0m\u001b[0mobj\u001b[0m\u001b[0;34m.\u001b[0m\u001b[0m_get_value\u001b[0m\u001b[0;34m(\u001b[0m\u001b[0;34m*\u001b[0m\u001b[0mkey\u001b[0m\u001b[0;34m,\u001b[0m \u001b[0mtakeable\u001b[0m\u001b[0;34m=\u001b[0m\u001b[0mself\u001b[0m\u001b[0;34m.\u001b[0m\u001b[0m_takeable\u001b[0m\u001b[0;34m)\u001b[0m\u001b[0;34m\u001b[0m\u001b[0;34m\u001b[0m\u001b[0m\n\u001b[0;32m--> 889\u001b[0;31m             \u001b[0;32mreturn\u001b[0m \u001b[0mself\u001b[0m\u001b[0;34m.\u001b[0m\u001b[0m_getitem_tuple\u001b[0m\u001b[0;34m(\u001b[0m\u001b[0mkey\u001b[0m\u001b[0;34m)\u001b[0m\u001b[0;34m\u001b[0m\u001b[0;34m\u001b[0m\u001b[0m\n\u001b[0m\u001b[1;32m    890\u001b[0m         \u001b[0;32melse\u001b[0m\u001b[0;34m:\u001b[0m\u001b[0;34m\u001b[0m\u001b[0;34m\u001b[0m\u001b[0m\n\u001b[1;32m    891\u001b[0m             \u001b[0;31m# we by definition only have the 0th axis\u001b[0m\u001b[0;34m\u001b[0m\u001b[0;34m\u001b[0m\u001b[0;34m\u001b[0m\u001b[0m\n",
      "\u001b[0;32m~/opt/anaconda3/lib/python3.8/site-packages/pandas/core/indexing.py\u001b[0m in \u001b[0;36m_getitem_tuple\u001b[0;34m(self, tup)\u001b[0m\n\u001b[1;32m   1058\u001b[0m     \u001b[0;32mdef\u001b[0m \u001b[0m_getitem_tuple\u001b[0m\u001b[0;34m(\u001b[0m\u001b[0mself\u001b[0m\u001b[0;34m,\u001b[0m \u001b[0mtup\u001b[0m\u001b[0;34m:\u001b[0m \u001b[0mTuple\u001b[0m\u001b[0;34m)\u001b[0m\u001b[0;34m:\u001b[0m\u001b[0;34m\u001b[0m\u001b[0;34m\u001b[0m\u001b[0m\n\u001b[1;32m   1059\u001b[0m         \u001b[0;32mwith\u001b[0m \u001b[0msuppress\u001b[0m\u001b[0;34m(\u001b[0m\u001b[0mIndexingError\u001b[0m\u001b[0;34m)\u001b[0m\u001b[0;34m:\u001b[0m\u001b[0;34m\u001b[0m\u001b[0;34m\u001b[0m\u001b[0m\n\u001b[0;32m-> 1060\u001b[0;31m             \u001b[0;32mreturn\u001b[0m \u001b[0mself\u001b[0m\u001b[0;34m.\u001b[0m\u001b[0m_getitem_lowerdim\u001b[0m\u001b[0;34m(\u001b[0m\u001b[0mtup\u001b[0m\u001b[0;34m)\u001b[0m\u001b[0;34m\u001b[0m\u001b[0;34m\u001b[0m\u001b[0m\n\u001b[0m\u001b[1;32m   1061\u001b[0m \u001b[0;34m\u001b[0m\u001b[0m\n\u001b[1;32m   1062\u001b[0m         \u001b[0;31m# no multi-index, so validate all of the indexers\u001b[0m\u001b[0;34m\u001b[0m\u001b[0;34m\u001b[0m\u001b[0;34m\u001b[0m\u001b[0m\n",
      "\u001b[0;32m~/opt/anaconda3/lib/python3.8/site-packages/pandas/core/indexing.py\u001b[0m in \u001b[0;36m_getitem_lowerdim\u001b[0;34m(self, tup)\u001b[0m\n\u001b[1;32m    805\u001b[0m                 \u001b[0;31m# We don't need to check for tuples here because those are\u001b[0m\u001b[0;34m\u001b[0m\u001b[0;34m\u001b[0m\u001b[0;34m\u001b[0m\u001b[0m\n\u001b[1;32m    806\u001b[0m                 \u001b[0;31m#  caught by the _is_nested_tuple_indexer check above.\u001b[0m\u001b[0;34m\u001b[0m\u001b[0;34m\u001b[0m\u001b[0;34m\u001b[0m\u001b[0m\n\u001b[0;32m--> 807\u001b[0;31m                 \u001b[0msection\u001b[0m \u001b[0;34m=\u001b[0m \u001b[0mself\u001b[0m\u001b[0;34m.\u001b[0m\u001b[0m_getitem_axis\u001b[0m\u001b[0;34m(\u001b[0m\u001b[0mkey\u001b[0m\u001b[0;34m,\u001b[0m \u001b[0maxis\u001b[0m\u001b[0;34m=\u001b[0m\u001b[0mi\u001b[0m\u001b[0;34m)\u001b[0m\u001b[0;34m\u001b[0m\u001b[0;34m\u001b[0m\u001b[0m\n\u001b[0m\u001b[1;32m    808\u001b[0m \u001b[0;34m\u001b[0m\u001b[0m\n\u001b[1;32m    809\u001b[0m                 \u001b[0;31m# We should never have a scalar section here, because\u001b[0m\u001b[0;34m\u001b[0m\u001b[0;34m\u001b[0m\u001b[0;34m\u001b[0m\u001b[0m\n",
      "\u001b[0;32m~/opt/anaconda3/lib/python3.8/site-packages/pandas/core/indexing.py\u001b[0m in \u001b[0;36m_getitem_axis\u001b[0;34m(self, key, axis)\u001b[0m\n\u001b[1;32m   1122\u001b[0m         \u001b[0;31m# fall thru to straight lookup\u001b[0m\u001b[0;34m\u001b[0m\u001b[0;34m\u001b[0m\u001b[0;34m\u001b[0m\u001b[0m\n\u001b[1;32m   1123\u001b[0m         \u001b[0mself\u001b[0m\u001b[0;34m.\u001b[0m\u001b[0m_validate_key\u001b[0m\u001b[0;34m(\u001b[0m\u001b[0mkey\u001b[0m\u001b[0;34m,\u001b[0m \u001b[0maxis\u001b[0m\u001b[0;34m)\u001b[0m\u001b[0;34m\u001b[0m\u001b[0;34m\u001b[0m\u001b[0m\n\u001b[0;32m-> 1124\u001b[0;31m         \u001b[0;32mreturn\u001b[0m \u001b[0mself\u001b[0m\u001b[0;34m.\u001b[0m\u001b[0m_get_label\u001b[0m\u001b[0;34m(\u001b[0m\u001b[0mkey\u001b[0m\u001b[0;34m,\u001b[0m \u001b[0maxis\u001b[0m\u001b[0;34m=\u001b[0m\u001b[0maxis\u001b[0m\u001b[0;34m)\u001b[0m\u001b[0;34m\u001b[0m\u001b[0;34m\u001b[0m\u001b[0m\n\u001b[0m\u001b[1;32m   1125\u001b[0m \u001b[0;34m\u001b[0m\u001b[0m\n\u001b[1;32m   1126\u001b[0m     \u001b[0;32mdef\u001b[0m \u001b[0m_get_slice_axis\u001b[0m\u001b[0;34m(\u001b[0m\u001b[0mself\u001b[0m\u001b[0;34m,\u001b[0m \u001b[0mslice_obj\u001b[0m\u001b[0;34m:\u001b[0m \u001b[0mslice\u001b[0m\u001b[0;34m,\u001b[0m \u001b[0maxis\u001b[0m\u001b[0;34m:\u001b[0m \u001b[0mint\u001b[0m\u001b[0;34m)\u001b[0m\u001b[0;34m:\u001b[0m\u001b[0;34m\u001b[0m\u001b[0;34m\u001b[0m\u001b[0m\n",
      "\u001b[0;32m~/opt/anaconda3/lib/python3.8/site-packages/pandas/core/indexing.py\u001b[0m in \u001b[0;36m_get_label\u001b[0;34m(self, label, axis)\u001b[0m\n\u001b[1;32m   1071\u001b[0m     \u001b[0;32mdef\u001b[0m \u001b[0m_get_label\u001b[0m\u001b[0;34m(\u001b[0m\u001b[0mself\u001b[0m\u001b[0;34m,\u001b[0m \u001b[0mlabel\u001b[0m\u001b[0;34m,\u001b[0m \u001b[0maxis\u001b[0m\u001b[0;34m:\u001b[0m \u001b[0mint\u001b[0m\u001b[0;34m)\u001b[0m\u001b[0;34m:\u001b[0m\u001b[0;34m\u001b[0m\u001b[0;34m\u001b[0m\u001b[0m\n\u001b[1;32m   1072\u001b[0m         \u001b[0;31m# GH#5667 this will fail if the label is not present in the axis.\u001b[0m\u001b[0;34m\u001b[0m\u001b[0;34m\u001b[0m\u001b[0;34m\u001b[0m\u001b[0m\n\u001b[0;32m-> 1073\u001b[0;31m         \u001b[0;32mreturn\u001b[0m \u001b[0mself\u001b[0m\u001b[0;34m.\u001b[0m\u001b[0mobj\u001b[0m\u001b[0;34m.\u001b[0m\u001b[0mxs\u001b[0m\u001b[0;34m(\u001b[0m\u001b[0mlabel\u001b[0m\u001b[0;34m,\u001b[0m \u001b[0maxis\u001b[0m\u001b[0;34m=\u001b[0m\u001b[0maxis\u001b[0m\u001b[0;34m)\u001b[0m\u001b[0;34m\u001b[0m\u001b[0;34m\u001b[0m\u001b[0m\n\u001b[0m\u001b[1;32m   1074\u001b[0m \u001b[0;34m\u001b[0m\u001b[0m\n\u001b[1;32m   1075\u001b[0m     \u001b[0;32mdef\u001b[0m \u001b[0m_handle_lowerdim_multi_index_axis0\u001b[0m\u001b[0;34m(\u001b[0m\u001b[0mself\u001b[0m\u001b[0;34m,\u001b[0m \u001b[0mtup\u001b[0m\u001b[0;34m:\u001b[0m \u001b[0mTuple\u001b[0m\u001b[0;34m)\u001b[0m\u001b[0;34m:\u001b[0m\u001b[0;34m\u001b[0m\u001b[0;34m\u001b[0m\u001b[0m\n",
      "\u001b[0;32m~/opt/anaconda3/lib/python3.8/site-packages/pandas/core/generic.py\u001b[0m in \u001b[0;36mxs\u001b[0;34m(self, key, axis, level, drop_level)\u001b[0m\n\u001b[1;32m   3737\u001b[0m                 \u001b[0;32mraise\u001b[0m \u001b[0mTypeError\u001b[0m\u001b[0;34m(\u001b[0m\u001b[0;34mf\"Expected label or tuple of labels, got {key}\"\u001b[0m\u001b[0;34m)\u001b[0m \u001b[0;32mfrom\u001b[0m \u001b[0me\u001b[0m\u001b[0;34m\u001b[0m\u001b[0;34m\u001b[0m\u001b[0m\n\u001b[1;32m   3738\u001b[0m         \u001b[0;32melse\u001b[0m\u001b[0;34m:\u001b[0m\u001b[0;34m\u001b[0m\u001b[0;34m\u001b[0m\u001b[0m\n\u001b[0;32m-> 3739\u001b[0;31m             \u001b[0mloc\u001b[0m \u001b[0;34m=\u001b[0m \u001b[0mindex\u001b[0m\u001b[0;34m.\u001b[0m\u001b[0mget_loc\u001b[0m\u001b[0;34m(\u001b[0m\u001b[0mkey\u001b[0m\u001b[0;34m)\u001b[0m\u001b[0;34m\u001b[0m\u001b[0;34m\u001b[0m\u001b[0m\n\u001b[0m\u001b[1;32m   3740\u001b[0m \u001b[0;34m\u001b[0m\u001b[0m\n\u001b[1;32m   3741\u001b[0m             \u001b[0;32mif\u001b[0m \u001b[0misinstance\u001b[0m\u001b[0;34m(\u001b[0m\u001b[0mloc\u001b[0m\u001b[0;34m,\u001b[0m \u001b[0mnp\u001b[0m\u001b[0;34m.\u001b[0m\u001b[0mndarray\u001b[0m\u001b[0;34m)\u001b[0m\u001b[0;34m:\u001b[0m\u001b[0;34m\u001b[0m\u001b[0;34m\u001b[0m\u001b[0m\n",
      "\u001b[0;32m~/opt/anaconda3/lib/python3.8/site-packages/pandas/core/indexes/range.py\u001b[0m in \u001b[0;36mget_loc\u001b[0;34m(self, key, method, tolerance)\u001b[0m\n\u001b[1;32m    352\u001b[0m                 \u001b[0;32mexcept\u001b[0m \u001b[0mValueError\u001b[0m \u001b[0;32mas\u001b[0m \u001b[0merr\u001b[0m\u001b[0;34m:\u001b[0m\u001b[0;34m\u001b[0m\u001b[0;34m\u001b[0m\u001b[0m\n\u001b[1;32m    353\u001b[0m                     \u001b[0;32mraise\u001b[0m \u001b[0mKeyError\u001b[0m\u001b[0;34m(\u001b[0m\u001b[0mkey\u001b[0m\u001b[0;34m)\u001b[0m \u001b[0;32mfrom\u001b[0m \u001b[0merr\u001b[0m\u001b[0;34m\u001b[0m\u001b[0;34m\u001b[0m\u001b[0m\n\u001b[0;32m--> 354\u001b[0;31m             \u001b[0;32mraise\u001b[0m \u001b[0mKeyError\u001b[0m\u001b[0;34m(\u001b[0m\u001b[0mkey\u001b[0m\u001b[0;34m)\u001b[0m\u001b[0;34m\u001b[0m\u001b[0;34m\u001b[0m\u001b[0m\n\u001b[0m\u001b[1;32m    355\u001b[0m         \u001b[0;32mreturn\u001b[0m \u001b[0msuper\u001b[0m\u001b[0;34m(\u001b[0m\u001b[0;34m)\u001b[0m\u001b[0;34m.\u001b[0m\u001b[0mget_loc\u001b[0m\u001b[0;34m(\u001b[0m\u001b[0mkey\u001b[0m\u001b[0;34m,\u001b[0m \u001b[0mmethod\u001b[0m\u001b[0;34m=\u001b[0m\u001b[0mmethod\u001b[0m\u001b[0;34m,\u001b[0m \u001b[0mtolerance\u001b[0m\u001b[0;34m=\u001b[0m\u001b[0mtolerance\u001b[0m\u001b[0;34m)\u001b[0m\u001b[0;34m\u001b[0m\u001b[0;34m\u001b[0m\u001b[0m\n\u001b[1;32m    356\u001b[0m \u001b[0;34m\u001b[0m\u001b[0m\n",
      "\u001b[0;31mKeyError\u001b[0m: 'name'"
     ]
    }
   ],
   "source": [
    "print(student_df.head)\n",
    "for row in student_df.index:\n",
    "    print(student_df.loc[row, 'roommate_preferences'])\n",
    "    temp_list = student_df.loc[row, 'roommate_preferences']\n",
    "    if temp_list != '[]':\n",
    "        \n",
    "        new_lst = []\n",
    "        new_lst = temp_list.replace('[', '').replace(']', '').split(',')\n",
    "        print(new_lst)\n",
    "        \n",
    "        for student in new_lst:\n",
    "            print(student)\n",
    "            match_list = []\n",
    "            for row2 in student_df:\n",
    "                if student_df.loc[row2, 'RUID'] == student:\n",
    "                    match_list = student_df.loc[row2, 'roommate_preferences']\n",
    "            if student not in match_list:\n",
    "                print(\"False\")\n",
    "                break"
   ]
  },
  {
   "cell_type": "code",
   "execution_count": null,
   "id": "bb56eaf6-b6a8-4e94-b87c-1e755d4bd8b7",
   "metadata": {},
   "outputs": [],
   "source": []
  }
 ],
 "metadata": {
  "kernelspec": {
   "display_name": "Python 3",
   "language": "python",
   "name": "python3"
  },
  "language_info": {
   "codemirror_mode": {
    "name": "ipython",
    "version": 3
   },
   "file_extension": ".py",
   "mimetype": "text/x-python",
   "name": "python",
   "nbconvert_exporter": "python",
   "pygments_lexer": "ipython3",
   "version": "3.8.8"
  }
 },
 "nbformat": 4,
 "nbformat_minor": 5
}
