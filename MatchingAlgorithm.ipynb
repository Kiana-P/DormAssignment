{
 "cells": [
  {
   "cell_type": "code",
   "execution_count": 1,
   "id": "95a2635c-4789-41eb-852f-72c092617b77",
   "metadata": {},
   "outputs": [],
   "source": [
    "import pandas as pd\n",
    "import random"
   ]
  },
  {
   "cell_type": "code",
   "execution_count": 2,
   "id": "a08c965f-dde1-4cf5-ace4-c90b99c1ed52",
   "metadata": {},
   "outputs": [],
   "source": [
    "#variable to store which student dataset we want to run\n",
    "student_url = 'data/raw/datasetA_with_roommate_pref.csv'"
   ]
  },
  {
   "cell_type": "code",
   "execution_count": 3,
   "id": "47a29c5d-4e35-46de-8953-375db8a07dcc",
   "metadata": {},
   "outputs": [],
   "source": [
    "#variable to store which room dataset we want to run\n",
    "room_url = 'data/raw/final_room_data.csv'"
   ]
  },
  {
   "cell_type": "code",
   "execution_count": 4,
   "id": "56391579-8f0f-48c6-a6f6-1ab90a33215b",
   "metadata": {},
   "outputs": [],
   "source": [
    "student_df = pd.read_csv(student_url, index_col= False)\n",
    "room_df = pd.read_csv(room_url, index_col= False)"
   ]
  },
  {
   "cell_type": "code",
   "execution_count": 5,
   "id": "38c4729e-3b6e-480c-8c52-ede0e6f359af",
   "metadata": {},
   "outputs": [
    {
     "name": "stdout",
     "output_type": "stream",
     "text": [
      "<bound method NDFrame.head of                   name sex       RUID          student_year  \\\n",
      "0     Jennifer Simmons   F  977522906             Sophomore   \n",
      "1      Courtney Murphy   F  567583671             Sophomore   \n",
      "2       Alexander King   M  450859644              Freshman   \n",
      "3      Amanda Atkinson   F  826829351             Sophomore   \n",
      "4          Mark Rogers   M  852305641                Junior   \n",
      "...                ...  ..        ...                   ...   \n",
      "5325  Mr. Joseph White   M  900451724             Doctorate   \n",
      "5326   Alyssa Franklin   F  933744275             Doctorate   \n",
      "5327       David James   M  417696262               Masters   \n",
      "5328     Stephen Heath   M  940035368  Postdoctoral studies   \n",
      "5329    Daniel Nichols   M  755301395             Doctorate   \n",
      "\n",
      "                                         student_school  accessibility_need  \\\n",
      "0                                 School of Engineering                   1   \n",
      "1                           School of Arts and Sciences                   0   \n",
      "2                           School of Arts and Sciences                   0   \n",
      "3                        Mason Gross School of the Arts                   0   \n",
      "4                           School of Arts and Sciences                   0   \n",
      "...                                                 ...                 ...   \n",
      "5325                       Graduate School of Education                   0   \n",
      "5326                         School of Graduate Studies                   0   \n",
      "5327  Graduate School of Applied and Professional Ps...                   0   \n",
      "5328                         School of Graduate Studies                   0   \n",
      "5329                         School of Graduate Studies                   0   \n",
      "\n",
      "      low_income_status preferred_hall_ids    preferred_residence_type  \\\n",
      "0                     0   ['WS' 'BS' 'RA']                   Apartment   \n",
      "1                     0   ['TS' 'BS' 'RA']                   Apartment   \n",
      "2                     0  ['RA' 'MS' 'NCA']                   Apartment   \n",
      "3                     1   ['AH' 'SA' 'MS']                       Suite   \n",
      "4                     0  ['BS' 'MS' 'NCA']  Traditional Residence Hall   \n",
      "...                 ...                ...                         ...   \n",
      "5325                  0        ['BA' 'JA']                   Apartment   \n",
      "5326                  0        ['BA' 'JA']                   Apartment   \n",
      "5327                  1        ['BA' 'JA']                   Apartment   \n",
      "5328                  1        ['BA' 'JA']                   Apartment   \n",
      "5329                  0        ['JA' 'BA']                   Apartment   \n",
      "\n",
      "      is_single_preferred preferred_price_range  max_price  \\\n",
      "0                       1            8000-11000      12000   \n",
      "1                       1             4000-6000       7000   \n",
      "2                       1             6000-8000       9000   \n",
      "3                       1            8000-11000      12000   \n",
      "4                       1            8000-11000      12000   \n",
      "...                   ...                   ...        ...   \n",
      "5325                    1            9000-10500      11500   \n",
      "5326                    1           10500-12000      13000   \n",
      "5327                    1            9000-10500      11500   \n",
      "5328                    1            9000-10500      11500   \n",
      "5329                    1           10500-12000      13000   \n",
      "\n",
      "        roommate_preferences  \n",
      "0                         []  \n",
      "1                [387304693]  \n",
      "2     [635228222, 156755286]  \n",
      "3                [121701820]  \n",
      "4     [876496616, 433175014]  \n",
      "...                      ...  \n",
      "5325                      []  \n",
      "5326                      []  \n",
      "5327                      []  \n",
      "5328                      []  \n",
      "5329                      []  \n",
      "\n",
      "[5330 rows x 13 columns]>\n"
     ]
    }
   ],
   "source": [
    "#drop unneccessary columns (maybe drop: name, school, is_single_preferred)\n",
    "student_df = student_df.drop(columns=['date_of_birth', 'is_private_bathroom_preferred', 'laundry_availibility'])\n",
    "print(student_df.head)"
   ]
  },
  {
   "cell_type": "markdown",
   "id": "c45cabe4-27a7-48b0-a182-63abd905f412",
   "metadata": {},
   "source": [
    "# Sorting\n",
    "We sorted the dataset using the following steps:\n",
    "1. assigning every student a lottery number & sorting them by it\n",
    "2. prioritizing freshman students (bringing them to the top of the list regardless of lottery number)\n",
    "3. prioritizing disability students (bringing them to the top of the list regardless of lottery number)\n",
    "4. prioritizing low-income students (bringing them to the top of the list regardless of lottery number)\n",
    "\n",
    "## What this means\n",
    "All of these categories are sorted by lottery\n",
    "1. Freshman & Disabled & Low-income\n",
    "2. Disabled & Low-income\n",
    "3. Disabled\n",
    "4. Freshman & Low-income\n",
    "5. Low-income\n",
    "6. Freshman\n",
    "7. Everyone else"
   ]
  },
  {
   "cell_type": "code",
   "execution_count": 6,
   "id": "6d149dbd-edef-4387-beb9-a9ba30f7ebde",
   "metadata": {},
   "outputs": [],
   "source": [
    "# defining variables\n",
    "total_students = student_df.shape[0]"
   ]
  },
  {
   "cell_type": "code",
   "execution_count": 7,
   "id": "58b7ef12-3193-4e57-95d1-d43bda7c2718",
   "metadata": {},
   "outputs": [],
   "source": [
    "# definining weights\n",
    "disability_pts = 20\n",
    "income_pts = 10\n",
    "freshman_pts = 5\n",
    "\n",
    "# assigning weights to each student\n",
    "weight_df = student_df\n",
    "weight_df['weights'] = 0\n",
    "for row in weight_df.index:\n",
    "    if weight_df.loc[row, 'accessibility_need'] == 1:\n",
    "        weight_df.at[row, 'weights'] += disability_pts\n",
    "    if weight_df.loc[row, 'low_income_status'] == 1:\n",
    "        weight_df.at[row, 'weights'] += income_pts\n",
    "    if weight_df.loc[row, 'student_year'] == \"Freshman\":\n",
    "        weight_df.at[row, 'weights'] += freshman_pts"
   ]
  },
  {
   "cell_type": "code",
   "execution_count": 8,
   "id": "f6ee3a6b-09ad-419c-b40c-aca3b1108673",
   "metadata": {},
   "outputs": [],
   "source": [
    "# will assign a different random number to each student\n",
    "lottery_df = weight_df\n",
    "numbers_range = range(1, total_students*4)\n",
    "lottery_numbers = random.choices(numbers_range, k=total_students)\n",
    "lottery_df[\"lottery_number\"] = lottery_numbers"
   ]
  },
  {
   "cell_type": "code",
   "execution_count": 9,
   "id": "4409aa71-cd60-457b-8000-b38b99879095",
   "metadata": {},
   "outputs": [],
   "source": [
    "# sort student dataset by weight and then lottery\n",
    "sorted_df = lottery_df.sort_values(by=['weights', 'lottery_number'], ascending=[False, True])\n",
    "sorted_df.to_csv('data/processed/sorted_students.csv', index=False)"
   ]
  },
  {
   "cell_type": "markdown",
   "id": "eadbbfb7-4e43-483d-8d72-f7df79853fd1",
   "metadata": {},
   "source": [
    "# Matching Algorithm"
   ]
  },
  {
   "cell_type": "code",
   "execution_count": 10,
   "id": "7b95df10-98ba-410c-ab42-94b326c71928",
   "metadata": {},
   "outputs": [],
   "source": [
    "# setting variables\n",
    "total_rooms = room_df.shape[0]\n",
    "graduate_rooms = 0\n",
    "accessible_rooms = 0\n",
    "\n",
    "# adding availability columns to dataframe\n",
    "room_df['available'] = 1\n",
    "\n",
    "#match to room, based on preference & price?\n"
   ]
  }
 ],
 "metadata": {
  "kernelspec": {
   "display_name": "Python 3",
   "language": "python",
   "name": "python3"
  },
  "language_info": {
   "codemirror_mode": {
    "name": "ipython",
    "version": 3
   },
   "file_extension": ".py",
   "mimetype": "text/x-python",
   "name": "python",
   "nbconvert_exporter": "python",
   "pygments_lexer": "ipython3",
   "version": "3.8.8"
  }
 },
 "nbformat": 4,
 "nbformat_minor": 5
}
