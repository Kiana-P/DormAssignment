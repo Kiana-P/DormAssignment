{
 "cells": [
  {
   "cell_type": "code",
   "execution_count": 1,
   "id": "95a2635c-4789-41eb-852f-72c092617b77",
   "metadata": {},
   "outputs": [],
   "source": [
    "import pandas as pd\n",
    "import random"
   ]
  },
  {
   "cell_type": "code",
   "execution_count": 2,
   "id": "a08c965f-dde1-4cf5-ace4-c90b99c1ed52",
   "metadata": {},
   "outputs": [],
   "source": [
    "#variable to store which student dataset we want to run\n",
    "student_url = 'data/raw/datasetB_with_roommate_pref.csv'"
   ]
  },
  {
   "cell_type": "code",
   "execution_count": 3,
   "id": "47a29c5d-4e35-46de-8953-375db8a07dcc",
   "metadata": {},
   "outputs": [],
   "source": [
    "#variable to store which room dataset we want to run\n",
    "room_url = 'data/raw/final_room_data.csv'"
   ]
  },
  {
   "cell_type": "code",
   "execution_count": 4,
   "id": "56391579-8f0f-48c6-a6f6-1ab90a33215b",
   "metadata": {},
   "outputs": [],
   "source": [
    "student_df = pd.read_csv(student_url, index_col= False)\n",
    "room_df = pd.read_csv(room_url, index_col= False)"
   ]
  },
  {
   "cell_type": "code",
   "execution_count": 5,
   "id": "38c4729e-3b6e-480c-8c52-ede0e6f359af",
   "metadata": {},
   "outputs": [],
   "source": [
    "#drop unneccessary columns (maybe drop: name, school, is_single_preferred)\n",
    "student_df = student_df.drop(columns=['is_single_preferred',\n",
    "                                      'is_private_bathroom_preferred',\n",
    "                                      'laundry_availibility'])\n",
    "room_df = room_df.drop(columns=['number_of_floors', 'is_aircooled',\n",
    "                                'has_vending_machine', 'has_laundry', 'has_main_lounge',\n",
    "                                'has_floor_lounge', 'has_tv_in_building', 'has_recreational_activities', \n",
    "                                'has_wardrobe', 'has_private_bathroom'])"
   ]
  },
  {
   "cell_type": "markdown",
   "id": "c45cabe4-27a7-48b0-a182-63abd905f412",
   "metadata": {},
   "source": [
    "# Sorting\n",
    "We sorted the dataset using the following steps:\n",
    "1. assigning every student a lottery number & sorting them by it\n",
    "2. assigning a priority weight to students who need accessibility (20)\n",
    "3. assigning a priority weight to low-income students (10)\n",
    "4. assigning a priority weight to freshman students (5)\n",
    "\n",
    "## What this means\n",
    "Organized by weight into these categoris and within these categories they are sorted by lottery:\n",
    "1. Freshman & Disabled & Low-income\n",
    "2. Disabled & Low-income\n",
    "3. Disabled\n",
    "4. Freshman & Low-income\n",
    "5. Low-income\n",
    "6. Freshman\n",
    "7. Everyone else"
   ]
  },
  {
   "cell_type": "code",
   "execution_count": 6,
   "id": "6d149dbd-edef-4387-beb9-a9ba30f7ebde",
   "metadata": {},
   "outputs": [],
   "source": [
    "# defining variables\n",
    "total_students = student_df.shape[0]"
   ]
  },
  {
   "cell_type": "code",
   "execution_count": 7,
   "id": "58b7ef12-3193-4e57-95d1-d43bda7c2718",
   "metadata": {},
   "outputs": [],
   "source": [
    "# definining weights\n",
    "disability_pts = 20\n",
    "income_pts = 10\n",
    "freshman_pts = 5\n",
    "\n",
    "# assigning weights to each student\n",
    "weight_df = student_df\n",
    "weight_df['weights'] = 0\n",
    "for row in weight_df.index:\n",
    "    if weight_df.loc[row, 'accessibility_need'] == 1:\n",
    "        weight_df.at[row, 'weights'] += disability_pts\n",
    "    if weight_df.loc[row, 'low_income_status'] == 1:\n",
    "        weight_df.at[row, 'weights'] += income_pts\n",
    "    if weight_df.loc[row, 'student_year'] == \"Freshman\":\n",
    "        weight_df.at[row, 'weights'] += freshman_pts"
   ]
  },
  {
   "cell_type": "code",
   "execution_count": 8,
   "id": "f6ee3a6b-09ad-419c-b40c-aca3b1108673",
   "metadata": {},
   "outputs": [],
   "source": [
    "# will assign a different random number to each student\n",
    "lottery_df = weight_df\n",
    "numbers_range = range(1, total_students*4)\n",
    "lottery_numbers = random.choices(numbers_range, k=total_students)\n",
    "lottery_df[\"lottery_number\"] = lottery_numbers"
   ]
  },
  {
   "cell_type": "code",
   "execution_count": 9,
   "id": "4409aa71-cd60-457b-8000-b38b99879095",
   "metadata": {},
   "outputs": [],
   "source": [
    "# sort student dataset by weight and then lottery\n",
    "sorted_df = lottery_df.sort_values(by=['weights', 'lottery_number'], ascending=[False, True])\n",
    "sorted_df['assigned'] = 0\n",
    "sorted_df.to_csv('data/processed/sorted_students.csv', index=False)"
   ]
  },
  {
   "cell_type": "markdown",
   "id": "eadbbfb7-4e43-483d-8d72-f7df79853fd1",
   "metadata": {},
   "source": [
    "# Assigning Rooms"
   ]
  },
  {
   "cell_type": "code",
   "execution_count": 10,
   "id": "7b95df10-98ba-410c-ab42-94b326c71928",
   "metadata": {},
   "outputs": [],
   "source": [
    "# setting variables\n",
    "total_rooms = room_df.shape[0]\n",
    "accessible_rooms = 0\n",
    "\n",
    "for row in range(0,total_rooms):\n",
    "    if room_df.loc[row, 'has_accessibility_ramps'] == 1:\n",
    "        accessible_rooms += 1"
   ]
  },
  {
   "cell_type": "code",
   "execution_count": 11,
   "id": "81e47eb0-75ce-4d60-83b5-751efa611eff",
   "metadata": {},
   "outputs": [],
   "source": [
    "#create a room preference list for each RUID\n",
    "preference_list = dict()\n",
    "for row in sorted_df.index:\n",
    "    series_ids = sorted_df.loc[row, ['preferred_hall_ids']]\n",
    "    string_ids = series_ids.to_string()\n",
    "    temp = string_ids[22:]\n",
    "    temp_str = temp.replace(' ', \",\").replace('[','').replace(']','').replace(\"'\",'').replace(\"'\",'')\n",
    "    preference_list[sorted_df.loc[row, 'RUID']] = temp_str.split(',') #string split"
   ]
  },
  {
   "cell_type": "code",
   "execution_count": 12,
   "id": "c39c7324-338c-4a2d-b4fa-0a27c495da36",
   "metadata": {},
   "outputs": [],
   "source": [
    "#create a roommate preference list for each RUID\n",
    "roommate_list = dict()\n",
    "for row in sorted_df.index:\n",
    "    series_ids = sorted_df.loc[row, ['roommate_preferences']]\n",
    "    string_ids = series_ids.to_string()\n",
    "    temp = string_ids[24:]\n",
    "    temp_str = temp.replace('[', '').replace(']', '')\n",
    "    roommate_list[sorted_df.loc[row, 'RUID']] = temp_str.split(',') #string split"
   ]
  },
  {
   "cell_type": "code",
   "execution_count": 13,
   "id": "5e3b2f32-a403-4114-ac65-a612131eef9b",
   "metadata": {},
   "outputs": [
    {
     "name": "stdout",
     "output_type": "stream",
     "text": [
      "          preferred_hall     roommate_preferences\n",
      "110322866  [TS, MZH, RA]  [114942167,  594262393]\n",
      "421462888   [BS, SA, RA]  [122082784,  316541638]\n",
      "632997885  [RA, SA, MZH]                       []\n",
      "692225359  [MRS, SA, BS]  [494246013,  344112668]\n",
      "158185009   [BS, RA, WS]  [536413979,  843673543]\n",
      "...                  ...                      ...\n",
      "547689833   [MH, AH, SA]  [525888768,  580322562]\n",
      "926637268       [BA, JA]  [736233529,  672055804]\n",
      "429882627   [MH, BS, RA]                       []\n",
      "592870719       [BA, JA]  [439357663,  549235572]\n",
      "420296176   [BS, MS, MH]              [813558427]\n",
      "\n",
      "[10660 rows x 2 columns]\n"
     ]
    }
   ],
   "source": [
    "ruid_df = pd.DataFrame({'preferred_hall':pd.Series(preference_list), 'roommate_preferences':pd.Series(roommate_list)})\n",
    "print(ruid_df)"
   ]
  },
  {
   "cell_type": "code",
   "execution_count": 14,
   "id": "9dd3cefa-d78e-4989-95c7-d4f16e9bdf61",
   "metadata": {},
   "outputs": [],
   "source": [
    "result = dict()\n",
    "\n",
    "room_df['available'] = 1\n",
    "ruid_df['assigned'] = 0\n",
    "\n",
    "for ruid in ruid_df.index:\n",
    "    \n",
    "    if ruid_df.loc[ruid, 'assigned'] == 1:\n",
    "        continue\n",
    "    \n",
    "    student_info = pd.DataFrame()\n",
    "    student_info = sorted_df.loc[(sorted_df['RUID'] == ruid)]\n",
    "    student_info = student_info.reset_index().drop(columns=['index'])\n",
    "    \n",
    "    #check if ruid is disability\n",
    "    disability_check = False\n",
    "    if student_info.loc[0]['accessibility_need'] == 1:\n",
    "        disability_check = True\n",
    "    \n",
    "    #check if graduate\n",
    "    graduate_check = False\n",
    "    if student_info.loc[0]['student_school'].find('Graduate') != -1:\n",
    "        graduate_check = True\n",
    "    \n",
    "    max_price = student_info.loc[0]['max_price']\n",
    "    \n",
    "    is_pref_found = False\n",
    "    room_details = []\n",
    "    available_rooms_df = pd.DataFrame()\n",
    "    \n",
    "    preferences = ruid_df.loc[ruid, 'preferred_hall']\n",
    "    roommate = ruid_df.loc[ruid, 'roommate_preferences']\n",
    "\n",
    "    for pref in preferences:\n",
    "        \n",
    "        if disability_check:\n",
    "            available_rooms_df = room_df.loc[(room_df['hall_id'] == pref) & (room_df['available'] == 1) & (room_df['price'] <= max_price) & \n",
    "                                             (room_df['has_accessibility_ramps'] == 1)]\n",
    "        else:\n",
    "            if not graduate_check:\n",
    "                available_rooms_df = room_df.loc[(room_df['hall_id'] == pref) & (room_df['available'] == 1) & (room_df['price'] <= max_price) & (room_df['room_contract_type'] == 'Undergraduate Academic Year (Two Semesters)')]\n",
    "            else:\n",
    "                available_rooms_df = room_df.loc[(room_df['hall_id'] == pref) & (room_df['available'] == 1) & (room_df['price'] <= max_price)]\n",
    "        \n",
    "        if not available_rooms_df.empty:\n",
    "            #try allocating first room in the df\n",
    "            is_pref_found = True\n",
    "            break\n",
    "    \n",
    "    if not is_pref_found:\n",
    "        #allocate random available room they can afford\n",
    "        \n",
    "        found = False\n",
    "        \n",
    "        if disability_check:\n",
    "            available_rooms_df = room_df.loc[(room_df['available'] == 1) & (room_df['price'] <= max_price) & (room_df['has_accessibility_ramps'] == 1)]\n",
    "            if available_rooms_df.empty: found = True\n",
    "        if not found:\n",
    "            if not graduate_check:\n",
    "                available_rooms_df = room_df.loc[(room_df['available'] == 1) & (room_df['price'] <= max_price) & (room_df['room_contract_type'] == 'Undergraduate Academic Year (Two Semesters)')]\n",
    "            else:\n",
    "                available_rooms_df = room_df.loc[(room_df['available'] == 1) & (room_df['price'] <= max_price)]\n",
    "    \n",
    "    \n",
    "    if available_rooms_df.empty:\n",
    "        #allocate random available room\n",
    "        if disability_check:\n",
    "            available_rooms_df = room_df.loc[(room_df['available'] == 1) & (room_df['has_accessibility_ramps'] == 1)]\n",
    "        else:\n",
    "            available_rooms_df = room_df.loc[(room_df['available'] == 1)]\n",
    "        \n",
    "    \n",
    "    if not available_rooms_df.empty:\n",
    "        #allocate random room in the df\n",
    "        \n",
    "        #room assignment here\n",
    "        allocated_room_df = available_rooms_df.sample()\n",
    "        allocated_room = allocated_room_df.iloc[0]\n",
    "            \n",
    "        room_details.append(allocated_room['hall_id'])\n",
    "        room_details.append(allocated_room['building_id'])\n",
    "        room_details.append(allocated_room['room_id'])\n",
    "            \n",
    "        room_df.loc[allocated_room.name,'available'] = 0\n",
    "        ruid_df.loc[ruid, 'assigned'] = 1\n",
    "        result[ruid] = room_details \n",
    "        \n",
    "        #for roommates:\n",
    "        room_num = allocated_room['room_number']\n",
    "        hall_id = allocated_room['hall_id']\n",
    "        building_id = allocated_room['building_id']\n",
    "        \n",
    "        \n",
    "        #making dataframe to see if there are other beds available with the same room number\n",
    "        roommate_rooms_df = pd.DataFrame()\n",
    "        roommate_rooms_df = available_rooms_df.loc[(available_rooms_df['hall_id'] == hall_id) & \n",
    "                                                   (available_rooms_df['room_number'] == room_num) &\n",
    "                                                   (available_rooms_df['building_id'] == building_id)]\n",
    "        \n",
    "        # if they have a list of roommates & there is a bed available, assign the roommate\n",
    "        if ((roommate != ['']) & (len(roommate_rooms_df) != 0)):\n",
    "            n=0 #index for iterating through df\n",
    "            for x in roommate:\n",
    "                roommate_details = []\n",
    "                x = int(x)\n",
    "                if ruid_df.loc[x, 'assigned'] == 0: #if not already assigned\n",
    "                    if not (n >= len(roommate_rooms_df)):\n",
    "                        temp_room = roommate_rooms_df.iloc[n]\n",
    "                        \n",
    "                        if temp_room['room_id'] == allocated_room['room_id']:\n",
    "                            n = n+1\n",
    "                            if n >= len(roommate_rooms_df):\n",
    "                                break\n",
    "                            \n",
    "                        roommate_room = roommate_rooms_df.iloc[n]\n",
    "                        roommate_details.append(roommate_room['hall_id'])\n",
    "                        roommate_details.append(roommate_room['building_id'])\n",
    "                        roommate_details.append(roommate_room['room_id'])\n",
    "                        \n",
    "                        room_df.loc[roommate_room.name,'available'] = 0\n",
    "                        result[x] = roommate_details\n",
    "                        ruid_df.loc[x, 'assigned'] = 1\n",
    "                        n = n+1\n",
    "        \n",
    "    else:\n",
    "        result[ruid] = []\n"
   ]
  },
  {
   "cell_type": "code",
   "execution_count": 15,
   "id": "d6998290-82a9-45f6-b40b-b2de648eb4fe",
   "metadata": {},
   "outputs": [],
   "source": [
    "df = pd.DataFrame(list(result.items()), columns=['RUID', 'Assigned Rooms'])\n",
    "df.to_csv('data/processed/allocated.csv', index=False)"
   ]
  },
  {
   "cell_type": "code",
   "execution_count": null,
   "id": "bb56eaf6-b6a8-4e94-b87c-1e755d4bd8b7",
   "metadata": {},
   "outputs": [],
   "source": []
  }
 ],
 "metadata": {
  "kernelspec": {
   "display_name": "Python 3",
   "language": "python",
   "name": "python3"
  },
  "language_info": {
   "codemirror_mode": {
    "name": "ipython",
    "version": 3
   },
   "file_extension": ".py",
   "mimetype": "text/x-python",
   "name": "python",
   "nbconvert_exporter": "python",
   "pygments_lexer": "ipython3",
   "version": "3.8.8"
  }
 },
 "nbformat": 4,
 "nbformat_minor": 5
}
