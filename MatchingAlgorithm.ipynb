{
 "cells": [
  {
   "cell_type": "code",
   "execution_count": 1,
   "id": "95a2635c-4789-41eb-852f-72c092617b77",
   "metadata": {},
   "outputs": [],
   "source": [
    "import pandas as pd\n",
    "import random"
   ]
  },
  {
   "cell_type": "code",
   "execution_count": 2,
   "id": "a08c965f-dde1-4cf5-ace4-c90b99c1ed52",
   "metadata": {},
   "outputs": [],
   "source": [
    "#variable to store which student dataset we want to run\n",
    "student_url = 'data/raw/datasetA_with_roommate_pref.csv'"
   ]
  },
  {
   "cell_type": "code",
   "execution_count": 3,
   "id": "47a29c5d-4e35-46de-8953-375db8a07dcc",
   "metadata": {},
   "outputs": [],
   "source": [
    "#variable to store which room dataset we want to run\n",
    "room_url = 'data/raw/final_room_data.csv'"
   ]
  },
  {
   "cell_type": "code",
   "execution_count": 4,
   "id": "56391579-8f0f-48c6-a6f6-1ab90a33215b",
   "metadata": {},
   "outputs": [],
   "source": [
    "student_df = pd.read_csv(student_url, index_col= False)\n",
    "room_df = pd.read_csv(room_url, index_col= False)"
   ]
  },
  {
   "cell_type": "markdown",
   "id": "c45cabe4-27a7-48b0-a182-63abd905f412",
   "metadata": {},
   "source": [
    "# Sorting\n",
    "We sorted the dataset using the following steps:\n",
    "1. assigning every student a lottery number & sorting them by it\n",
    "2. prioritizing freshman students (bringing them to the top of the list regardless of lottery number)\n",
    "3. prioritizing disability students (bringing them to the top of the list regardless of lottery number)\n",
    "4. prioritizing low-income students (bringing them to the top of the list regardless of lottery number)\n",
    "\n",
    "## What this means\n",
    "All of these categories are sorted by lottery\n",
    "1. Freshman & Disabled & Low-income\n",
    "2. Disabled & Low-income\n",
    "3. Disabled\n",
    "4. Freshman & Low-income\n",
    "5. Low-income\n",
    "6. Freshman\n",
    "7. Everyone else"
   ]
  },
  {
   "cell_type": "code",
   "execution_count": 5,
   "id": "6d149dbd-edef-4387-beb9-a9ba30f7ebde",
   "metadata": {},
   "outputs": [],
   "source": [
    "# defining variables\n",
    "total_students = student_df.shape[0]\n",
    "total_rooms = room_df.shape[0]\n",
    "graduate_rooms = 0\n",
    "accessible_rooms = 0"
   ]
  },
  {
   "cell_type": "code",
   "execution_count": 6,
   "id": "f6ee3a6b-09ad-419c-b40c-aca3b1108673",
   "metadata": {},
   "outputs": [],
   "source": [
    "# will assign a different random number to each student\n",
    "lottery_df = student_df\n",
    "numbers_range = range(1, total_students*4) \n",
    "lottery_numbers = random.choices(numbers_range, k=total_students)\n",
    "lottery_df[\"lottery_number\"] = lottery_numbers"
   ]
  },
  {
   "cell_type": "code",
   "execution_count": 7,
   "id": "4409aa71-cd60-457b-8000-b38b99879095",
   "metadata": {},
   "outputs": [],
   "source": [
    "# sort student dataset by lottery\n",
    "sorted_df = lottery_df.sort_values(by=['lottery_number'])\n",
    "sorted_df.to_csv('data/processed/student_lottery.csv', index=False)"
   ]
  },
  {
   "cell_type": "code",
   "execution_count": null,
   "id": "1a32c114-2742-4581-861a-5ee304d4d929",
   "metadata": {},
   "outputs": [],
   "source": []
  }
 ],
 "metadata": {
  "kernelspec": {
   "display_name": "Python 3",
   "language": "python",
   "name": "python3"
  },
  "language_info": {
   "codemirror_mode": {
    "name": "ipython",
    "version": 3
   },
   "file_extension": ".py",
   "mimetype": "text/x-python",
   "name": "python",
   "nbconvert_exporter": "python",
   "pygments_lexer": "ipython3",
   "version": "3.8.8"
  }
 },
 "nbformat": 4,
 "nbformat_minor": 5
}
