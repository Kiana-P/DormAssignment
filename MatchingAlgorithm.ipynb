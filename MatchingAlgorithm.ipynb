{
 "cells": [
  {
   "cell_type": "code",
   "execution_count": 1,
   "id": "95a2635c-4789-41eb-852f-72c092617b77",
   "metadata": {},
   "outputs": [],
   "source": [
    "import pandas as pd"
   ]
  },
  {
   "cell_type": "code",
   "execution_count": null,
   "id": "56391579-8f0f-48c6-a6f6-1ab90a33215b",
   "metadata": {},
   "outputs": [],
   "source": [
    "dfA = pd.read_csv(\"data/datasetA_with_roommate_pref.csv\")\n",
    "dfB = pd.read_csv(\"data/datasetA_with_roommate_pref.csv\")\n",
    "roomdf = pd.read_csv(\"data/final_room_data.csv\")"
   ]
  }
 ],
 "metadata": {
  "kernelspec": {
   "display_name": "Python 3",
   "language": "python",
   "name": "python3"
  },
  "language_info": {
   "codemirror_mode": {
    "name": "ipython",
    "version": 3
   },
   "file_extension": ".py",
   "mimetype": "text/x-python",
   "name": "python",
   "nbconvert_exporter": "python",
   "pygments_lexer": "ipython3",
   "version": "3.8.8"
  }
 },
 "nbformat": 4,
 "nbformat_minor": 5
}
